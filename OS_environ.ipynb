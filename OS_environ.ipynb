{
 "cells": [
  {
   "cell_type": "code",
   "execution_count": 1,
   "id": "2ea0d9e5",
   "metadata": {},
   "outputs": [],
   "source": [
    "import os"
   ]
  },
  {
   "cell_type": "markdown",
   "id": "6368b254",
   "metadata": {},
   "source": [
    "# 환경 변수 얻기"
   ]
  },
  {
   "cell_type": "code",
   "execution_count": 16,
   "id": "ec543001",
   "metadata": {},
   "outputs": [
    {
     "name": "stdout",
     "output_type": "stream",
     "text": [
      "\\Users\\mangg\n"
     ]
    }
   ],
   "source": [
    "print(os.environ.get(\"HOMEPATH\")) #반환값 string"
   ]
  },
  {
   "cell_type": "markdown",
   "id": "45fd2ea0",
   "metadata": {},
   "source": [
    "# 환경 변수 쓰기/덮어쓰기"
   ]
  },
  {
   "cell_type": "code",
   "execution_count": 17,
   "id": "4cb01743",
   "metadata": {},
   "outputs": [
    {
     "name": "stdout",
     "output_type": "stream",
     "text": [
      "env(): staging\n"
     ]
    }
   ],
   "source": [
    "os.environ[\"PHASE\"] = \"staging\"\n",
    "\n",
    "print('env(): '+os.environ[\"PHASE\"])"
   ]
  },
  {
   "cell_type": "code",
   "execution_count": 23,
   "id": "5e25b972",
   "metadata": {},
   "outputs": [
    {
     "name": "stdout",
     "output_type": "stream",
     "text": [
      "env() before: staging\n",
      "env() after: dev\n"
     ]
    }
   ],
   "source": [
    "print ( \"env() before: \" + os . environ [ \"PHASE\"]) # 이미 있는 변수  \n",
    "os . environ [ \"PHASE\" ] = \"dev\" #언어 환경 변수 덮어쓰기   \n",
    "print ( \"env() after: \" + os . environ [ \"PHASE\" ]) "
   ]
  },
  {
   "cell_type": "markdown",
   "id": "ceec3f13",
   "metadata": {},
   "source": [
    "# 환경 변수 삭제 "
   ]
  },
  {
   "cell_type": "code",
   "execution_count": 24,
   "id": "1e619b63",
   "metadata": {},
   "outputs": [],
   "source": [
    "del os.environ['PHASE']"
   ]
  },
  {
   "cell_type": "code",
   "execution_count": 26,
   "id": "aa76d8bd",
   "metadata": {},
   "outputs": [
    {
     "name": "stdout",
     "output_type": "stream",
     "text": [
      "None\n"
     ]
    }
   ],
   "source": [
    "print(os.environ.get('PHASE'))"
   ]
  },
  {
   "cell_type": "markdown",
   "id": "41619441",
   "metadata": {},
   "source": [
    "# 예제) 단계별 처리 전환 "
   ]
  },
  {
   "cell_type": "code",
   "execution_count": 27,
   "id": "983b07a4",
   "metadata": {},
   "outputs": [],
   "source": [
    "def print_phase(str):\n",
    "    if str == 'dev':\n",
    "        print('개발 중')\n",
    "    elif str == 'test':\n",
    "        print('테스트 중')\n",
    "    else:\n",
    "        print('프로덕션 전')"
   ]
  },
  {
   "cell_type": "code",
   "execution_count": 32,
   "id": "356ed490",
   "metadata": {},
   "outputs": [
    {
     "name": "stdout",
     "output_type": "stream",
     "text": [
      "개발 중\n",
      "테스트 중\n",
      "프로덕션 전\n"
     ]
    }
   ],
   "source": [
    "phase = os.environ['PHASE'] = 'dev'\n",
    "print_phase(phase)\n",
    "\n",
    "phase = os.environ['PHASE'] = 'test'\n",
    "print_phase(phase)\n",
    "\n",
    "phase = os.environ['PHASE'] = 'staging'\n",
    "print_phase(phase)"
   ]
  }
 ],
 "metadata": {
  "kernelspec": {
   "display_name": "Python 3 (ipykernel)",
   "language": "python",
   "name": "python3"
  },
  "language_info": {
   "codemirror_mode": {
    "name": "ipython",
    "version": 3
   },
   "file_extension": ".py",
   "mimetype": "text/x-python",
   "name": "python",
   "nbconvert_exporter": "python",
   "pygments_lexer": "ipython3",
   "version": "3.9.7"
  }
 },
 "nbformat": 4,
 "nbformat_minor": 5
}
