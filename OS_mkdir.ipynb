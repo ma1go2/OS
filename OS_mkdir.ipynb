{
 "cells": [
  {
   "cell_type": "code",
   "execution_count": 1,
   "id": "7e72d4e4",
   "metadata": {},
   "outputs": [],
   "source": [
    "import os"
   ]
  },
  {
   "cell_type": "markdown",
   "id": "70729302",
   "metadata": {},
   "source": [
    "# os.mkdir 사용법 "
   ]
  },
  {
   "cell_type": "markdown",
   "id": "34d78f2d",
   "metadata": {},
   "source": [
    "## 기본 사용법"
   ]
  },
  {
   "cell_type": "code",
   "execution_count": 3,
   "id": "bafe6a10",
   "metadata": {},
   "outputs": [],
   "source": [
    "path = './test/dirF'\n",
    "os.mkdir(path) #폴더가 생성됨"
   ]
  },
  {
   "cell_type": "markdown",
   "id": "2e20be54",
   "metadata": {},
   "source": [
    "## 여러 디렉토리 만들기 "
   ]
  },
  {
   "cell_type": "code",
   "execution_count": 8,
   "id": "0e9ea6d9",
   "metadata": {},
   "outputs": [],
   "source": [
    "pass_list = ['./test/dirZ','./test/dirX','./test/dirY']\n",
    "\n",
    "for path in pass_list:\n",
    "    os.mkdir(path)"
   ]
  },
  {
   "cell_type": "markdown",
   "id": "40da71f5",
   "metadata": {},
   "source": [
    "# os.makedirs 사용법 "
   ]
  },
  {
   "cell_type": "markdown",
   "id": "4e4321c6",
   "metadata": {},
   "source": [
    "## 디렉토리를 재귀적으로 작성 \n",
    "os.makedirs는 중간 디렉토리가 없으면 생성한다."
   ]
  },
  {
   "cell_type": "markdown",
   "id": "3446520c",
   "metadata": {},
   "source": [
    "path = './test/dirM/dirK'\n",
    "\n",
    "os.makedirs(path)"
   ]
  },
  {
   "cell_type": "markdown",
   "id": "511ddee1",
   "metadata": {},
   "source": [
    "## exist_ok 지정 \n",
    "인수에 지정된 경로가 있어도 오류가 발생하지 않는다."
   ]
  },
  {
   "cell_type": "code",
   "execution_count": 12,
   "id": "10ba8f4c",
   "metadata": {},
   "outputs": [],
   "source": [
    "path = './test/dirM/dirK'\n",
    "\n",
    "os.makedirs(path, exist_ok = True)"
   ]
  }
 ],
 "metadata": {
  "kernelspec": {
   "display_name": "Python 3 (ipykernel)",
   "language": "python",
   "name": "python3"
  },
  "language_info": {
   "codemirror_mode": {
    "name": "ipython",
    "version": 3
   },
   "file_extension": ".py",
   "mimetype": "text/x-python",
   "name": "python",
   "nbconvert_exporter": "python",
   "pygments_lexer": "ipython3",
   "version": "3.9.7"
  }
 },
 "nbformat": 4,
 "nbformat_minor": 5
}
