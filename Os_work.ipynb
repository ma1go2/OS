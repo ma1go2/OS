{
 "cells": [
  {
   "cell_type": "markdown",
   "id": "31896e23",
   "metadata": {},
   "source": [
    "# os.walk()"
   ]
  },
  {
   "cell_type": "code",
   "execution_count": 44,
   "id": "4d1fe62d",
   "metadata": {
    "scrolled": true
   },
   "outputs": [
    {
     "name": "stdout",
     "output_type": "stream",
     "text": [
      "=======================\n",
      "현재 디렉토리: test\n",
      "포함하는 디렉토리 ['dirA', 'dirB', 'dirC']\n",
      "포함하는 파일: []\n",
      "=======================\n",
      "현재 디렉토리: test\\dirA\n",
      "포함하는 디렉토리 ['dirD']\n",
      "포함하는 파일: ['a-1.txt', 'a-2.txt', 'c-1.txt']\n",
      "=======================\n",
      "현재 디렉토리: test\\dirA\\dirD\n",
      "포함하는 디렉토리 []\n",
      "포함하는 파일: []\n",
      "=======================\n",
      "현재 디렉토리: test\\dirB\n",
      "포함하는 디렉토리 []\n",
      "포함하는 파일: ['b-1.py', 'b-2.py']\n",
      "=======================\n",
      "현재 디렉토리: test\\dirC\n",
      "포함하는 디렉토리 []\n",
      "포함하는 파일: ['c-1.txt', 'c-2.txt']\n"
     ]
    }
   ],
   "source": [
    "import os\n",
    " \n",
    "for curDir, dirs, files in os.walk(\"test\"):\n",
    "    print('=======================')\n",
    "    print(\"현재 디렉토리:\" , curDir) #반환값 string\n",
    "    print(\"포함하는 디렉토리\", dirs) #반환값 list\n",
    "    print(\"포함하는 파일:\", files)   #반환값 list"
   ]
  },
  {
   "cell_type": "code",
   "execution_count": 45,
   "id": "ed86df9f",
   "metadata": {},
   "outputs": [
    {
     "name": "stdout",
     "output_type": "stream",
     "text": [
      "=======================\n",
      "현재 디렉토리: test\\dirA\\dirD\n",
      "포함하는 디렉토리 []\n",
      "포함하는 파일: []\n",
      "=======================\n",
      "현재 디렉토리: test\\dirA\n",
      "포함하는 디렉토리 ['dirD']\n",
      "포함하는 파일: ['a-1.txt', 'a-2.txt', 'c-1.txt']\n",
      "=======================\n",
      "현재 디렉토리: test\\dirB\n",
      "포함하는 디렉토리 []\n",
      "포함하는 파일: ['b-1.py', 'b-2.py']\n",
      "=======================\n",
      "현재 디렉토리: test\\dirC\n",
      "포함하는 디렉토리 []\n",
      "포함하는 파일: ['c-1.txt', 'c-2.txt']\n",
      "=======================\n",
      "현재 디렉토리: test\n",
      "포함하는 디렉토리 ['dirA', 'dirB', 'dirC']\n",
      "포함하는 파일: []\n"
     ]
    }
   ],
   "source": [
    "for curDir, dirs, files in os.walk(\"test\", topdown= False): #역순\n",
    "    print('=======================')\n",
    "    print(\"현재 디렉토리:\" , curDir) #반환값 string\n",
    "    print(\"포함하는 디렉토리\", dirs) #반환값 list\n",
    "    print(\"포함하는 파일:\", files)   #반환값 list"
   ]
  },
  {
   "cell_type": "markdown",
   "id": "05dc38c1",
   "metadata": {},
   "source": [
    "## 파일 목록 보기"
   ]
  },
  {
   "cell_type": "code",
   "execution_count": 46,
   "id": "fa0fd033",
   "metadata": {},
   "outputs": [
    {
     "name": "stdout",
     "output_type": "stream",
     "text": [
      "test\\dirA\\a-1.txt\n",
      "test\\dirA\\a-2.txt\n",
      "test\\dirA\\c-1.txt\n",
      "test\\dirB\\b-1.py\n",
      "test\\dirB\\b-2.py\n",
      "test\\dirC\\c-1.txt\n",
      "test\\dirC\\c-2.txt\n"
     ]
    }
   ],
   "source": [
    "for curDir, dirs, files in os.walk(\"test\"): \n",
    "    for f in files:\n",
    "        print(os.path.join(curDir, f))"
   ]
  },
  {
   "cell_type": "markdown",
   "id": "c1040b2b",
   "metadata": {},
   "source": [
    "## 특정 확장자 파일 목록 표시"
   ]
  },
  {
   "cell_type": "code",
   "execution_count": 53,
   "id": "4e01d189",
   "metadata": {},
   "outputs": [
    {
     "name": "stdout",
     "output_type": "stream",
     "text": [
      "test\\dirA\\a-1.txt\n",
      "test\\dirA\\a-2.txt\n",
      "test\\dirA\\c-1.txt\n",
      "test\\dirC\\c-1.txt\n",
      "test\\dirC\\c-2.txt\n"
     ]
    }
   ],
   "source": [
    "for curDir, dirs, files in os.walk(\"test\"): \n",
    "    for f in files:\n",
    "        if f.endswith(\".txt\"):\n",
    "            print(os.path.join(curDir, f))"
   ]
  },
  {
   "cell_type": "markdown",
   "id": "b72cef7a",
   "metadata": {},
   "source": [
    "## 특정 파일의 경로 표시"
   ]
  },
  {
   "cell_type": "code",
   "execution_count": 65,
   "id": "1e387aee",
   "metadata": {},
   "outputs": [
    {
     "name": "stdout",
     "output_type": "stream",
     "text": [
      "test\\dirA\\c-1.txt\n",
      "test\\dirC\\c-1.txt\n"
     ]
    }
   ],
   "source": [
    "for curDir, dirs, files in os.walk(\"test\"): \n",
    "    for f in files:\n",
    "        if \"c-1.txt\" in f:\n",
    "            print(os.path.join(curDir, f))"
   ]
  },
  {
   "cell_type": "markdown",
   "id": "fb415674",
   "metadata": {},
   "source": [
    "## 디렉토리 목록 보기"
   ]
  },
  {
   "cell_type": "code",
   "execution_count": 66,
   "id": "3a76bd18",
   "metadata": {},
   "outputs": [
    {
     "name": "stdout",
     "output_type": "stream",
     "text": [
      "dirA\n",
      "dirB\n",
      "dirC\n",
      "dirD\n"
     ]
    }
   ],
   "source": [
    "for curDir , dirs , files in os . walk ( \"test\" ):\n",
    "    for dir in dirs :\n",
    "        print ( dir )"
   ]
  },
  {
   "cell_type": "markdown",
   "id": "9e25b2a3",
   "metadata": {},
   "source": [
    "## 특정 문자열이 포홤된 디렉토리 제외"
   ]
  },
  {
   "cell_type": "code",
   "execution_count": 68,
   "id": "313de045",
   "metadata": {},
   "outputs": [
    {
     "name": "stdout",
     "output_type": "stream",
     "text": [
      "dirB\n",
      "dirC\n",
      "dirD\n"
     ]
    }
   ],
   "source": [
    "for curDir , dirs , files in os . walk ( \"test\" ):\n",
    "    for dir in dirs :\n",
    "        if \"dirA\" not in dir :   \n",
    "            path = os . path . join ( dir )\n",
    "            print ( path )"
   ]
  }
 ],
 "metadata": {
  "kernelspec": {
   "display_name": "Python 3 (ipykernel)",
   "language": "python",
   "name": "python3"
  },
  "language_info": {
   "codemirror_mode": {
    "name": "ipython",
    "version": 3
   },
   "file_extension": ".py",
   "mimetype": "text/x-python",
   "name": "python",
   "nbconvert_exporter": "python",
   "pygments_lexer": "ipython3",
   "version": "3.9.7"
  }
 },
 "nbformat": 4,
 "nbformat_minor": 5
}
