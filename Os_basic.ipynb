{
 "cells": [
  {
   "cell_type": "code",
   "execution_count": null,
   "id": "af6613cc",
   "metadata": {},
   "outputs": [],
   "source": [
    "import os"
   ]
  },
  {
   "cell_type": "markdown",
   "id": "da1b111b",
   "metadata": {},
   "source": [
    "Operating System의 약자로 운영체제의 기능을 파이썬으로 수행할 수 있게 한다."
   ]
  },
  {
   "cell_type": "code",
   "execution_count": null,
   "id": "5ff1b257",
   "metadata": {},
   "outputs": [],
   "source": [
    "os.getcwd() #현재 경로를 나타낸다."
   ]
  },
  {
   "cell_type": "code",
   "execution_count": null,
   "id": "4dab277e",
   "metadata": {},
   "outputs": [],
   "source": [
    "os.walk('path') #파일과 디렉토리 목록을 얻는 모듈"
   ]
  },
  {
   "cell_type": "code",
   "execution_count": null,
   "id": "9f0f4982",
   "metadata": {},
   "outputs": [],
   "source": [
    "os.system() #유닉스 명령을 파이썬으로 작성하기 위한 모듈"
   ]
  },
  {
   "cell_type": "code",
   "execution_count": null,
   "id": "cd2b1468",
   "metadata": {
    "collapsed": true
   },
   "outputs": [],
   "source": [
    "os.listdir('path') #파일, 디렉토리 목록을 확인."
   ]
  },
  {
   "cell_type": "code",
   "execution_count": null,
   "id": "181c1c0c",
   "metadata": {},
   "outputs": [],
   "source": [
    "os.path() #파일, 디렉토리 존재 확인, 지정한 경로의 파일명 취득, 경로나 파일명의 결합"
   ]
  },
  {
   "cell_type": "code",
   "execution_count": null,
   "id": "49765176",
   "metadata": {
    "collapsed": true
   },
   "outputs": [],
   "source": [
    "os.environ() #환경변수를 취득, 읽기, 쓰기를 위해 사용"
   ]
  },
  {
   "cell_type": "code",
   "execution_count": null,
   "id": "56f4f65f",
   "metadata": {},
   "outputs": [],
   "source": [
    "os.mkdir() #간단히 디렉토리를 작성할 수 있다."
   ]
  },
  {
   "cell_type": "code",
   "execution_count": null,
   "id": "4ba1ea96",
   "metadata": {},
   "outputs": [],
   "source": [
    "os.rename() #파일명을 변경할 때 사용."
   ]
  },
  {
   "cell_type": "code",
   "execution_count": null,
   "id": "be54b0e3",
   "metadata": {},
   "outputs": [],
   "source": [
    "os.remove() #파일 삭제하기 위해 사용"
   ]
  },
  {
   "cell_type": "markdown",
   "id": "e9b98812",
   "metadata": {},
   "source": [
    "참고자료  \n",
    "https://www.sejuku.net/blog/67787"
   ]
  }
 ],
 "metadata": {
  "kernelspec": {
   "display_name": "Python 3 (ipykernel)",
   "language": "python",
   "name": "python3"
  },
  "language_info": {
   "codemirror_mode": {
    "name": "ipython",
    "version": 3
   },
   "file_extension": ".py",
   "mimetype": "text/x-python",
   "name": "python",
   "nbconvert_exporter": "python",
   "pygments_lexer": "ipython3",
   "version": "3.9.7"
  }
 },
 "nbformat": 4,
 "nbformat_minor": 5
}
