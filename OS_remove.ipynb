{
 "cells": [
  {
   "cell_type": "code",
   "execution_count": 1,
   "id": "9d1061b8",
   "metadata": {},
   "outputs": [],
   "source": [
    "import os"
   ]
  },
  {
   "cell_type": "markdown",
   "id": "f4927f0b",
   "metadata": {},
   "source": [
    "# os.remove 사용법 "
   ]
  },
  {
   "cell_type": "code",
   "execution_count": 2,
   "id": "4f6ae980",
   "metadata": {},
   "outputs": [
    {
     "name": "stdout",
     "output_type": "stream",
     "text": [
      "False\n"
     ]
    }
   ],
   "source": [
    "path = './test/sample.txt'\n",
    "\n",
    "os.remove(path)\n",
    "\n",
    "print(os.path.exists(path))"
   ]
  },
  {
   "cell_type": "markdown",
   "id": "0183e267",
   "metadata": {},
   "source": [
    "# 디렉토리를 삭제하는 방법 "
   ]
  },
  {
   "cell_type": "markdown",
   "id": "60ef89a9",
   "metadata": {},
   "source": [
    "## os.rmdir 사용법 \n",
    "os.rmdir은 디렉토리를 삭제하는데 사용하는 함수이다."
   ]
  },
  {
   "cell_type": "code",
   "execution_count": 6,
   "id": "f11a1ce2",
   "metadata": {},
   "outputs": [
    {
     "name": "stdout",
     "output_type": "stream",
     "text": [
      "False\n"
     ]
    }
   ],
   "source": [
    "path = './test/dirZ'\n",
    "\n",
    "os.rmdir(path)\n",
    "\n",
    "print(os.path.isdir(path))"
   ]
  },
  {
   "cell_type": "markdown",
   "id": "0be72b61",
   "metadata": {},
   "source": [
    "## 전체 디렉토리 삭제\n",
    "디렉토리에 포함된 서브 디렉토리 파일도 삭제하려면 shutil모듈의 rmtree함수를 사용한다."
   ]
  },
  {
   "cell_type": "code",
   "execution_count": 4,
   "id": "848c09fb",
   "metadata": {},
   "outputs": [
    {
     "name": "stdout",
     "output_type": "stream",
     "text": [
      "False\n"
     ]
    }
   ],
   "source": [
    "import shutil\n",
    "\n",
    "path ='./test/dirM'\n",
    "\n",
    "shutil.rmtree(path)\n",
    "\n",
    "print(os.path.isdir(path))"
   ]
  }
 ],
 "metadata": {
  "kernelspec": {
   "display_name": "Python 3 (ipykernel)",
   "language": "python",
   "name": "python3"
  },
  "language_info": {
   "codemirror_mode": {
    "name": "ipython",
    "version": 3
   },
   "file_extension": ".py",
   "mimetype": "text/x-python",
   "name": "python",
   "nbconvert_exporter": "python",
   "pygments_lexer": "ipython3",
   "version": "3.9.7"
  }
 },
 "nbformat": 4,
 "nbformat_minor": 5
}
