{
 "cells": [
  {
   "cell_type": "code",
   "execution_count": 1,
   "id": "793d4094",
   "metadata": {},
   "outputs": [],
   "source": [
    "import os"
   ]
  },
  {
   "cell_type": "markdown",
   "id": "c998e632",
   "metadata": {},
   "source": [
    "# 파일 및 디렉토리 존재 확인"
   ]
  },
  {
   "cell_type": "code",
   "execution_count": 17,
   "id": "2c1f2f15",
   "metadata": {},
   "outputs": [
    {
     "name": "stdout",
     "output_type": "stream",
     "text": [
      "실행 파일 경로: C:\\Users\\mangg\\Desktop\\python\\JPNB\n",
      "exists(): True\n",
      "isdir(): True\n",
      "isfile(): False\n"
     ]
    }
   ],
   "source": [
    "cur_dir = os.getcwd() #실행 파일의 주소를 가져온다.\n",
    "\n",
    "print(\"실행 파일 경로: \" + cur_dir)\n",
    "print('exists(): ' + str(os.path.exists(cur_dir))) #파일 및 디렉토리 존재 확인\n",
    "print('isdir(): ' + str(os.path.isdir(cur_dir))) #디렉토리 존재 확인\n",
    "print('isfile(): ' + str(os.path.isfile(cur_dir))) #파일 존재 확인"
   ]
  },
  {
   "cell_type": "markdown",
   "id": "05ea6069",
   "metadata": {},
   "source": [
    "# 파일명이나 패스 등의 취득 "
   ]
  },
  {
   "cell_type": "code",
   "execution_count": 19,
   "id": "4fb65c6a",
   "metadata": {},
   "outputs": [
    {
     "name": "stdout",
     "output_type": "stream",
     "text": [
      "path: /test/dirA/a-1.txt\n",
      "basename(): a-1.txt\n",
      "dirname(): /test/dirA\n"
     ]
    }
   ],
   "source": [
    "path = '/test/dirA/a-1.txt'\n",
    "\n",
    "print('path: ' + path)\n",
    "print('basename(): ' + os.path.basename(path)) #지정된 주소의 파일명\n",
    "print('dirname(): ' + os.path.dirname(path)) #지정된 주소의 파일명 제외한 것"
   ]
  },
  {
   "cell_type": "markdown",
   "id": "e8980940",
   "metadata": {},
   "source": [
    "# 파일 이름, 경로 등의 조인 및 분할 "
   ]
  },
  {
   "cell_type": "code",
   "execution_count": 20,
   "id": "ec5adf75",
   "metadata": {},
   "outputs": [
    {
     "name": "stdout",
     "output_type": "stream",
     "text": [
      "split(): ('/test/dirA', 'a-1.txt')\n",
      "split() 디렉토리 이름: /test/dirA\n",
      "split() 파일 이름: a-1.txt\n",
      "splitext(): ('/test/dirA/a-1', '.txt')\n",
      "splitext() 확장자 이전: /test/dirA/a-1\n",
      "splitext() 확장자: .txt\n",
      "join(): /test/dirA\\a-1.txt\n"
     ]
    }
   ],
   "source": [
    "path = '/test/dirA/a-1.txt'\n",
    "\n",
    "print('split(): ' +str(os.path.split(path))) #지정된 파일명과 주소를 반환\n",
    "print('split() 디렉토리 이름: '+str(os.path.split(path)[0]))\n",
    "print('split() 파일 이름: '+str(os.path.split(path)[1]))\n",
    "print('splitext(): ' + str(os.path.splitext(path))) #파일의 확장자와 그 이전 주소를 반환\n",
    "print('splitext() 확장자 이전: '+ str(os.path.splitext(path)[0]))\n",
    "print('splitext() 확장자: '+ str(os.path.splitext(path)[1]))\n",
    "\n",
    "path = '/test/dirA'\n",
    "\n",
    "file = 'a-1.txt'\n",
    "\n",
    "print(\"join(): \" + os.path.join(path,file)) #경로와 파일명 등을 결함"
   ]
  }
 ],
 "metadata": {
  "kernelspec": {
   "display_name": "Python 3 (ipykernel)",
   "language": "python",
   "name": "python3"
  },
  "language_info": {
   "codemirror_mode": {
    "name": "ipython",
    "version": 3
   },
   "file_extension": ".py",
   "mimetype": "text/x-python",
   "name": "python",
   "nbconvert_exporter": "python",
   "pygments_lexer": "ipython3",
   "version": "3.9.7"
  }
 },
 "nbformat": 4,
 "nbformat_minor": 5
}
