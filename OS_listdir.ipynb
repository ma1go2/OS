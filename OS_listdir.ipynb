{
 "cells": [
  {
   "cell_type": "code",
   "execution_count": 2,
   "id": "810a4408",
   "metadata": {},
   "outputs": [],
   "source": [
    "import os"
   ]
  },
  {
   "cell_type": "markdown",
   "id": "06ce1f89",
   "metadata": {},
   "source": [
    "# 파일 디렉토리 목록 얻기"
   ]
  },
  {
   "cell_type": "code",
   "execution_count": 8,
   "id": "8412f2cf",
   "metadata": {},
   "outputs": [],
   "source": [
    "path = './test'"
   ]
  },
  {
   "cell_type": "code",
   "execution_count": 9,
   "id": "ef27e6ef",
   "metadata": {},
   "outputs": [
    {
     "name": "stdout",
     "output_type": "stream",
     "text": [
      "['dirA', 'dirB', 'dirC']\n"
     ]
    }
   ],
   "source": [
    "list1 = os.listdir(path)\n",
    "print(list1)"
   ]
  },
  {
   "cell_type": "markdown",
   "id": "00a2dfd9",
   "metadata": {},
   "source": [
    "# 파일 목록 가져오기"
   ]
  },
  {
   "cell_type": "code",
   "execution_count": 11,
   "id": "1ee128ba",
   "metadata": {},
   "outputs": [
    {
     "name": "stdout",
     "output_type": "stream",
     "text": [
      "['a-1.txt', 'a-2.txt', 'c-1.txt']\n"
     ]
    }
   ],
   "source": [
    "path = './test/dirA'\n",
    "\n",
    "filelist = []\n",
    "\n",
    "for f in os.listdir(path):\n",
    "    if os.path.isfile(os.path.join(path,f)):\n",
    "        filelist.append(f)\n",
    "        \n",
    "print(filelist)"
   ]
  },
  {
   "cell_type": "markdown",
   "id": "edc9eaad",
   "metadata": {},
   "source": [
    "# 디렉토리 가져오기"
   ]
  },
  {
   "cell_type": "code",
   "execution_count": 12,
   "id": "ccee105f",
   "metadata": {},
   "outputs": [
    {
     "name": "stdout",
     "output_type": "stream",
     "text": [
      "['dirD']\n"
     ]
    }
   ],
   "source": [
    "filelist = []\n",
    "\n",
    "for f in os.listdir(path):\n",
    "    if os.path.isdir(os.path.join(path, f)):\n",
    "        filelist.append(f)\n",
    "        \n",
    "print(filelist)"
   ]
  },
  {
   "cell_type": "markdown",
   "id": "07444af9",
   "metadata": {},
   "source": [
    "# 확장자를 지정 검색"
   ]
  },
  {
   "cell_type": "code",
   "execution_count": 13,
   "id": "cb77f7b8",
   "metadata": {},
   "outputs": [],
   "source": [
    "import glob"
   ]
  },
  {
   "cell_type": "code",
   "execution_count": 14,
   "id": "7c59e5a3",
   "metadata": {},
   "outputs": [
    {
     "name": "stdout",
     "output_type": "stream",
     "text": [
      "['./test/dirA\\\\a-1.txt', './test/dirA\\\\a-2.txt', './test/dirA\\\\c-1.txt']\n"
     ]
    }
   ],
   "source": [
    "path='./test/dirA/*.txt'\n",
    "\n",
    "list1 = glob.glob(path)\n",
    "\n",
    "print(list1)"
   ]
  }
 ],
 "metadata": {
  "kernelspec": {
   "display_name": "Python 3 (ipykernel)",
   "language": "python",
   "name": "python3"
  },
  "language_info": {
   "codemirror_mode": {
    "name": "ipython",
    "version": 3
   },
   "file_extension": ".py",
   "mimetype": "text/x-python",
   "name": "python",
   "nbconvert_exporter": "python",
   "pygments_lexer": "ipython3",
   "version": "3.9.7"
  }
 },
 "nbformat": 4,
 "nbformat_minor": 5
}
