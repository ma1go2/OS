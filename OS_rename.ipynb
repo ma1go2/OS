{
 "cells": [
  {
   "cell_type": "code",
   "execution_count": 1,
   "id": "0591904c",
   "metadata": {},
   "outputs": [],
   "source": [
    "import os"
   ]
  },
  {
   "cell_type": "markdown",
   "id": "ed813597",
   "metadata": {},
   "source": [
    "# os.rename 사용법 "
   ]
  },
  {
   "cell_type": "code",
   "execution_count": 2,
   "id": "2a137a7c",
   "metadata": {
    "scrolled": true
   },
   "outputs": [
    {
     "name": "stdout",
     "output_type": "stream",
     "text": [
      "True\n"
     ]
    }
   ],
   "source": [
    "# 변경 전 파일\n",
    "path1 = './test/dirA/a-1.txt'\n",
    "\n",
    "# 변경 후 파일\n",
    "path2 = './test/dirA/z-1.txt'\n",
    "\n",
    "# 파일 이름 변경\n",
    "os.rename(path1, path2)\n",
    "\n",
    "# 파일 존재 확인\n",
    "print(os.path.exists(path2))"
   ]
  },
  {
   "cell_type": "markdown",
   "id": "af711003",
   "metadata": {},
   "source": [
    "# 파일 이름을 대량으로 변경하는 방법"
   ]
  },
  {
   "cell_type": "code",
   "execution_count": 3,
   "id": "54485fb8",
   "metadata": {},
   "outputs": [
    {
     "name": "stdout",
     "output_type": "stream",
     "text": [
      "변경 전\n",
      "['./test/dirA\\\\a-2.txt', './test/dirA\\\\c-1.txt', './test/dirA\\\\z-1.txt']\n",
      "변경 후\n",
      "['./test/dirA\\\\k1.txt', './test/dirA\\\\k2.txt', './test/dirA\\\\k3.txt']\n"
     ]
    }
   ],
   "source": [
    "import glob\n",
    "\n",
    "# .txt 확장자를 가진 파일 읽기\n",
    "path = './test/dirA/*.txt'\n",
    "i=1\n",
    "\n",
    "# txt파일 가져오기\n",
    "flist = glob.glob(path)\n",
    "print('변경 전')\n",
    "print(flist)\n",
    "\n",
    "#파일 이름 일관 변경\n",
    "for file in flist:\n",
    "    os.rename(file, './test/dirA/k' + str(i) + '.txt')\n",
    "    i +=1\n",
    "\n",
    "list = glob.glob(path)\n",
    "print('변경 후')\n",
    "print(list)"
   ]
  }
 ],
 "metadata": {
  "kernelspec": {
   "display_name": "Python 3 (ipykernel)",
   "language": "python",
   "name": "python3"
  },
  "language_info": {
   "codemirror_mode": {
    "name": "ipython",
    "version": 3
   },
   "file_extension": ".py",
   "mimetype": "text/x-python",
   "name": "python",
   "nbconvert_exporter": "python",
   "pygments_lexer": "ipython3",
   "version": "3.9.7"
  }
 },
 "nbformat": 4,
 "nbformat_minor": 5
}
